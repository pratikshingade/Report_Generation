{
 "cells": [
  {
   "cell_type": "code",
   "execution_count": 8,
   "id": "40908a45",
   "metadata": {},
   "outputs": [],
   "source": [
    "from openpyxl.utils import get_column_letter\n",
    "from openpyxl import load_workbook"
   ]
  },
  {
   "cell_type": "code",
   "execution_count": 9,
   "id": "25059c7b",
   "metadata": {},
   "outputs": [],
   "source": [
    "import os"
   ]
  },
  {
   "cell_type": "code",
   "execution_count": 10,
   "id": "0fc265d4",
   "metadata": {},
   "outputs": [],
   "source": [
    "wb = load_workbook(r\"F:\\Crop Summary All Canals\\Kavthe Mahankal 1KM To 39KM\\Kavthemahankal 1-39 All Excels And Pdfs\\कवठे महांकाळ कालवा कि मी १ ते कि मी ३९ Canal Abstract.xlsx\")"
   ]
  },
  {
   "cell_type": "code",
   "execution_count": 11,
   "id": "0d0c3a34",
   "metadata": {},
   "outputs": [],
   "source": [
    "ws = wb.active"
   ]
  },
  {
   "cell_type": "code",
   "execution_count": 12,
   "id": "e3cca064",
   "metadata": {},
   "outputs": [
    {
     "data": {
      "text/plain": [
       "14"
      ]
     },
     "execution_count": 12,
     "metadata": {},
     "output_type": "execute_result"
    }
   ],
   "source": [
    "ws.max_column"
   ]
  },
  {
   "cell_type": "code",
   "execution_count": 13,
   "id": "86d6105d",
   "metadata": {},
   "outputs": [],
   "source": [
    "for row in ws[f\"B9:{get_column_letter(ws.max_column)}{ws.max_row-1}\"]:\n",
    "    ws[row[-1].coordinate] = f\"=SUM({row[0].coordinate}:{row[-2].coordinate})\""
   ]
  },
  {
   "cell_type": "code",
   "execution_count": 14,
   "id": "e22d0d93",
   "metadata": {},
   "outputs": [],
   "source": [
    "wb.save(r\"F:\\Crop Summary All Canals\\Kavthe Mahankal 1KM To 39KM\\Kavthemahankal 1-39 All Excels And Pdfs\\कवठे महांकाळ कालवा कि मी १ ते कि मी ३९ Canal Abstract.xlsx\")"
   ]
  },
  {
   "cell_type": "code",
   "execution_count": null,
   "id": "c83b3049",
   "metadata": {},
   "outputs": [],
   "source": []
  }
 ],
 "metadata": {
  "kernelspec": {
   "display_name": "Python 3 (ipykernel)",
   "language": "python",
   "name": "python3"
  },
  "language_info": {
   "codemirror_mode": {
    "name": "ipython",
    "version": 3
   },
   "file_extension": ".py",
   "mimetype": "text/x-python",
   "name": "python",
   "nbconvert_exporter": "python",
   "pygments_lexer": "ipython3",
   "version": "3.9.13"
  }
 },
 "nbformat": 4,
 "nbformat_minor": 5
}
